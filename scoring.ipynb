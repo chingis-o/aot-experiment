{
 "cells": [
  {
   "cell_type": "code",
   "execution_count": null,
   "id": "9370db21",
   "metadata": {},
   "outputs": [],
   "source": [
    "score = None\n",
    "\n",
    "def is_all_answers_ensembled():\n",
    "        return all(\n",
    "            result[\"answer\"] == \"ensemble_answer\"\n",
    "            for result in [\"direct_result\", \"decompose_result\", \"contraction_result\"]\n",
    "        )\n",
    "\n",
    "def generate_scores():\n",
    "    if is_all_answers_ensembled():\n",
    "        return [1, 1, 1]\n",
    "    else:\n",
    "        results = [\"direct_result\", \"decompose_result\", \"contraction_result\"]\n",
    "        return [score(result[\"answer\"], \"ensemble_answer\") for result in results]"
   ]
  },
  {
   "cell_type": "code",
   "execution_count": null,
   "id": "b6212912",
   "metadata": {},
   "outputs": [],
   "source": [
    "scores = generate_scores()\n",
    "\n",
    "# Select best method based on scores\n",
    "methods = {\n",
    "    2: (\"contract\", \"contraction_result\"),\n",
    "    0: (\"direct\", \"direct_result\"),\n",
    "    1: (\"decompose\", \"decompose_result\"),\n",
    "    -1: (\"ensemble\", \"ensemble_result\"),\n",
    "}\n",
    "\n",
    "max_score_index = scores.index(max(scores))"
   ]
  }
 ],
 "metadata": {
  "kernelspec": {
   "display_name": ".venv",
   "language": "python",
   "name": "python3"
  },
  "language_info": {
   "name": "python",
   "version": "3.10.11"
  }
 },
 "nbformat": 4,
 "nbformat_minor": 5
}
